{
 "cells": [
  {
   "cell_type": "code",
   "execution_count": 4,
   "metadata": {},
   "outputs": [
    {
     "name": "stdout",
     "output_type": "stream",
     "text": [
      "corpus=electronics, learning_rate=2e-05, lr_decay_epoch=5, lr_decay_ratio=0.8, batch_size=32, n_layers=2,     hidden_size=512, embed_size=512, context_emb_size=512, num_contexts=3, overall=5, save_dir=./data/electronics\n",
      "load data...\n",
      "Start loading training data ...\n",
      "Saved data not found, start preparing training data ...\n",
      "vocab, dataset, save_dir:  <load.Vocabulary object at 0x7f9099661dc0> electronics ./data/electronics\n",
      "Reading ./data/electronics/train.json\n",
      "l:  {\"reviewerID\": \"A2P5U7BDKKT7FW\", \"asin\": \"0594451647\", \"reviewerName\": \"Christian\", \"helpful\": [0, 0], \"reviewText\": \"The cable is very wobbly and sometimes disconnects itself.The price is completely unfair and only works with the Nook HD and HD+\", \"overall\": 2, \"summary\": \"Cheap proprietary scam\", \"unixReviewTime\": 1398556800, \"reviewTime\": \"04 27, 2014\"}\n",
      "\n",
      "Traceback (most recent call last):\n",
      "  File \"/Users/yong8/Workspace/jupyter/r-exp-gen/aspect/load.py\", line 66, in loadPrepareData\n",
      "    train_pairs = torch.load(os.path.join(save_dir, 'paired_train.tar'))\n",
      "  File \"/Users/yong8/opt/miniconda3/envs/jupyter/lib/python3.9/site-packages/torch/serialization.py\", line 581, in load\n",
      "    with _open_file_like(f, 'rb') as opened_file:\n",
      "  File \"/Users/yong8/opt/miniconda3/envs/jupyter/lib/python3.9/site-packages/torch/serialization.py\", line 230, in _open_file_like\n",
      "    return _open_file(name_or_buffer, mode)\n",
      "  File \"/Users/yong8/opt/miniconda3/envs/jupyter/lib/python3.9/site-packages/torch/serialization.py\", line 211, in __init__\n",
      "    super(_open_file, self).__init__(open(name, mode))\n",
      "FileNotFoundError: [Errno 2] No such file or directory: './data/electronics/paired_train.tar'\n",
      "\n",
      "During handling of the above exception, another exception occurred:\n",
      "\n",
      "Traceback (most recent call last):\n",
      "  File \"/Users/yong8/Workspace/jupyter/r-exp-gen/aspect/main.py\", line 57, in <module>\n",
      "    run(args)\n",
      "  File \"/Users/yong8/Workspace/jupyter/r-exp-gen/aspect/main.py\", line 44, in run\n",
      "    trainIters(args.train, learning_rate, lr_decay_epoch, lr_decay_ratio, batch_size, \\\n",
      "  File \"/Users/yong8/Workspace/jupyter/r-exp-gen/aspect/train.py\", line 130, in trainIters\n",
      "    vocab, train_pairs, valid_pairs, test_pairs = loadPrepareData(corpus, save_dir)  # load data\n",
      "  File \"/Users/yong8/Workspace/jupyter/r-exp-gen/aspect/load.py\", line 74, in loadPrepareData\n",
      "    train_pairs, valid_pairs, test_pairs = prepareData(vocab, dataset, save_dir)\n",
      "  File \"/Users/yong8/Workspace/jupyter/r-exp-gen/aspect/load.py\", line 51, in prepareData\n",
      "    train_pairs = tokenize(os.path.join(save_dir, 'train.json'), dataset, vocab, save_dir)\n",
      "  File \"/Users/yong8/Workspace/jupyter/r-exp-gen/aspect/load.py\", line 29, in tokenize\n",
      "    user = l['user']\n",
      "KeyError: 'user'\n"
     ]
    }
   ],
   "source": [
    "!sh run.sh"
   ]
  },
  {
   "cell_type": "code",
   "execution_count": null,
   "metadata": {},
   "outputs": [],
   "source": []
  },
  {
   "cell_type": "code",
   "execution_count": null,
   "metadata": {},
   "outputs": [],
   "source": []
  }
 ],
 "metadata": {
  "kernelspec": {
   "display_name": "Python (conda)",
   "language": "python",
   "name": "jupyter"
  },
  "language_info": {
   "codemirror_mode": {
    "name": "ipython",
    "version": 3
   },
   "file_extension": ".py",
   "mimetype": "text/x-python",
   "name": "python",
   "nbconvert_exporter": "python",
   "pygments_lexer": "ipython3",
   "version": "3.9.7"
  }
 },
 "nbformat": 4,
 "nbformat_minor": 4
}
